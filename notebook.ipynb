{
 "cells": [
  {
   "cell_type": "code",
   "execution_count": 24,
   "id": "2a4bcd1f",
   "metadata": {},
   "outputs": [
    {
     "data": {
      "text/plain": [
       "CompletedProcess(args=\"xdotool search --name 'World of Warcraft' windowactivate && sleep 0.1 && scrot -u 'testscrot.png'\", returncode=0)"
      ]
     },
     "execution_count": 24,
     "metadata": {},
     "output_type": "execute_result"
    }
   ],
   "source": [
    "import time\n",
    "import subprocess\n",
    "\n",
    "COMMAND = \"xdotool search --name 'World of Warcraft' windowactivate && sleep 0.1 && scrot -u 'testscrot.png'\"\n",
    "\n",
    "subprocess.run(COMMAND, shell=True)"
   ]
  },
  {
   "cell_type": "code",
   "execution_count": 25,
   "id": "bff7654d",
   "metadata": {},
   "outputs": [
    {
     "data": {
      "text/plain": [
       "<matplotlib.image.AxesImage at 0x7f56f0488e20>"
      ]
     },
     "execution_count": 25,
     "metadata": {},
     "output_type": "execute_result"
    },
    {
     "data": {
      "image/png": "[encoded data removed]",
      "text/plain": [
       "<Figure size 432x288 with 2 Axes>"
      ]
     },
     "metadata": {
      "needs_background": "light"
     },
     "output_type": "display_data"
    }
   ],
   "source": [
    "from skimage import io\n",
    "# io.use_plugin('matplotlib', 'imread')\n",
    "# screen = io.imread('testscrot.png').transpose((2, 0, 1))\n",
    "screen = io.imread('testscrot_011.png')\n",
    "_, screen_height, screen_width = screen.shape\n",
    "\n",
    "relevant_screen = screen[:60,:60, :]\n",
    "io.imshow(relevant_screen)\n",
    "# image\n",
    "# io.imshow(image)"
   ]
  },
  {
   "cell_type": "code",
   "execution_count": 26,
   "id": "054b60b9",
   "metadata": {},
   "outputs": [
    {
     "data": {
      "image/png": "[encoded data removed]",
      "text/plain": [
       "<Figure size 432x288 with 1 Axes>"
      ]
     },
     "metadata": {
      "needs_background": "light"
     },
     "output_type": "display_data"
    }
   ],
   "source": [
    "import numpy as np\n",
    "import torch\n",
    "import torchvision.transforms as T\n",
    "from PIL import Image\n",
    "import matplotlib.pyplot as plt\n",
    "\n",
    "resize = T.Compose([T.ToPILImage(), T.Resize(40, interpolation=Image.CUBIC), T.ToTensor()])\n",
    "\n",
    "screen = screen.transpose((2, 0, 1))\n",
    "screen = screen[:, :60, :60]\n",
    "screen = np.ascontiguousarray(screen, dtype=np.float32)\n",
    "screen = torch.from_numpy(screen)\n",
    "screen = resize(screen).unsqueeze(0)\n",
    "\n",
    "plt.figure()\n",
    "plt.imshow(screen.cpu().squeeze(0).permute(1, 2, 0).numpy(), interpolation='none')\n",
    "plt.title('Example extracted screen')\n",
    "plt.show()"
   ]
  },
  {
   "cell_type": "code",
   "execution_count": null,
   "id": "d48fe755",
   "metadata": {},
   "outputs": [],
   "source": []
  }
 ],
 "metadata": {
  "kernelspec": {
   "display_name": "fixed3wowagent",
   "language": "python",
   "name": "fixed3wowagent"
  },
  "language_info": {
   "codemirror_mode": {
    "name": "ipython",
    "version": 3
   },
   "file_extension": ".py",
   "mimetype": "text/x-python",
   "name": "python",
   "nbconvert_exporter": "python",
   "pygments_lexer": "ipython3",
   "version": "3.8.6"
  }
 },
 "nbformat": 4,
 "nbformat_minor": 5
}
